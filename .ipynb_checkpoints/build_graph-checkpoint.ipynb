{
 "cells": [
  {
   "cell_type": "code",
   "execution_count": 71,
   "id": "b0271783",
   "metadata": {},
   "outputs": [],
   "source": [
    "import os\n",
    "import random\n",
    "import numpy as np\n",
    "import pickle as pkl\n",
    "import networkx as nx\n",
    "import scipy.sparse as sp\n",
    "from utils import loadWord2Vec, clean_str\n",
    "from math import log\n",
    "from sklearn import svm\n",
    "from nltk.corpus import wordnet as wn\n",
    "from sklearn.feature_extraction.text import TfidfVectorizer\n",
    "import sys\n",
    "from scipy.spatial.distance import cosine\n"
   ]
  },
  {
   "cell_type": "code",
   "execution_count": 75,
   "id": "ab44036f",
   "metadata": {
    "scrolled": false
   },
   "outputs": [
    {
     "name": "stdout",
     "output_type": "stream",
     "text": [
      "'mr'\n",
      "ArgumentParser(prog='ipykernel_launcher.py', usage=None, description='test', formatter_class=<class 'argparse.HelpFormatter'>, conflict_handler='error', add_help=True)\n",
      "['C:\\\\Users\\\\86184\\\\anaconda3\\\\lib\\\\site-packages\\\\ipykernel_launcher.py', '-f', 'C:\\\\Users\\\\86184\\\\AppData\\\\Roaming\\\\jupyter\\\\runtime\\\\kernel-61aa52fc-9db5-4d98-b18d-ad494311e25f.json', 'dataset', \"'mr'\", 'dataset', \"'mr'\"]\n"
     ]
    }
   ],
   "source": [
    "import argparse\n",
    "import configparser\n",
    " \n",
    "if __name__ == \"__main__\":\n",
    "    jupyter = True  # 如果不在jupyter notebook中，就改为False.\n",
    "     \n",
    "    parser = argparse.ArgumentParser(description='test')\n",
    "    parser.add_argument('--dataset',  default='mr')\n",
    "    parser.add_argument('--shuju',  default='mr')\n",
    " \n",
    "    arg_list = None\n",
    "    if jupyter:\n",
    "        # load from config.ini，如果是用jupyter, 就转换配置为list再传入argparse\n",
    "        config = configparser.ConfigParser()\n",
    "        config.read('config.ini')\n",
    "        # 其实是个字典: \n",
    "        print(config['train']['dataset'])\n",
    "        arg_list = []\n",
    "        for k, v in config['train'].items():\n",
    "            arg_list.append(\"--\"+k)\n",
    "            arg_list.append(v)\n",
    " \n",
    "    # 如果不是用jupyter，arg_list就是None，和用命令行执行没有区别。\n",
    "    print(parser)\n",
    "    args = parser.parse_args(arg_list)\n",
    "    print(sys.argv)"
   ]
  },
  {
   "cell_type": "code",
   "execution_count": 73,
   "id": "31a80e40",
   "metadata": {},
   "outputs": [
    {
     "ename": "SystemExit",
     "evalue": "Use: python build_graph.py <dataset>",
     "output_type": "error",
     "traceback": [
      "An exception has occurred, use %tb to see the full traceback.\n",
      "\u001b[1;31mSystemExit\u001b[0m\u001b[1;31m:\u001b[0m Use: python build_graph.py <dataset>\n"
     ]
    }
   ],
   "source": [
    "if len(sys.argv) != 2:\n",
    "\tsys.exit(\"Use: python build_graph.py <dataset>\")\n",
    "\n",
    "datasets = ['20ng', 'R8', 'R52', 'ohsumed', 'mr']\n",
    "# build corpus\n",
    "dataset = sys.argv[1]\n",
    "\n",
    "if dataset not in datasets:\n",
    "\tsys.exit(\"wrong dataset name\")"
   ]
  },
  {
   "cell_type": "code",
   "execution_count": null,
   "id": "a0ee1f31",
   "metadata": {},
   "outputs": [],
   "source": [
    "word_embeddings_dim = 300\n",
    "word_vector_map = {}\n",
    "\n",
    "# shulffing\n",
    "doc_name_list = []\n",
    "doc_train_list = []\n",
    "doc_test_list = []"
   ]
  },
  {
   "cell_type": "code",
   "execution_count": null,
   "id": "a7909837",
   "metadata": {},
   "outputs": [],
   "source": [
    "#打开数据集ID（包括ID标签）\n",
    "f = open('data/' + dataset + '.txt', 'r')\n",
    "lines = f.readlines()\n",
    "for line in lines:\n",
    "    doc_name_list.append(line.strip())\n",
    "    temp = line.split(\"\\t\")\n",
    "    if temp[1].find('test') != -1:\n",
    "        doc_test_list.append(line.strip())\n",
    "    elif temp[1].find('train') != -1:\n",
    "        doc_train_list.append(line.strip())\n",
    "f.close()\n",
    "print(doc_train_list)\n",
    "print(doc_test_list)"
   ]
  }
 ],
 "metadata": {
  "kernelspec": {
   "display_name": "Python 3 (ipykernel)",
   "language": "python",
   "name": "python3"
  },
  "language_info": {
   "codemirror_mode": {
    "name": "ipython",
    "version": 3
   },
   "file_extension": ".py",
   "mimetype": "text/x-python",
   "name": "python",
   "nbconvert_exporter": "python",
   "pygments_lexer": "ipython3",
   "version": "3.9.12"
  }
 },
 "nbformat": 4,
 "nbformat_minor": 5
}
